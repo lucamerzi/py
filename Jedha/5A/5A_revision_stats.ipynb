{
 "cells": [
  {
   "cell_type": "code",
   "execution_count": 1,
   "metadata": {},
   "outputs": [],
   "source": [
    "import pandas as pd\n",
    "import matplotlib.pyplot as plt"
   ]
  },
  {
   "cell_type": "code",
   "execution_count": 2,
   "metadata": {},
   "outputs": [],
   "source": [
    "data = pd.DataFrame(data=[1, 2, 3, 4, 5, 5])"
   ]
  },
  {
   "cell_type": "code",
   "execution_count": 3,
   "metadata": {},
   "outputs": [
    {
     "data": {
      "text/plain": [
       "0    3.333333\n",
       "dtype: float64"
      ]
     },
     "execution_count": 3,
     "metadata": {},
     "output_type": "execute_result"
    }
   ],
   "source": [
    "# Mean \n",
    "data.mean()"
   ]
  },
  {
   "cell_type": "code",
   "execution_count": 4,
   "metadata": {},
   "outputs": [
    {
     "data": {
      "text/plain": [
       "0    3.5\n",
       "dtype: float64"
      ]
     },
     "execution_count": 4,
     "metadata": {},
     "output_type": "execute_result"
    }
   ],
   "source": [
    "# Median\n",
    "data.median()"
   ]
  },
  {
   "cell_type": "code",
   "execution_count": 5,
   "metadata": {},
   "outputs": [
    {
     "data": {
      "text/html": [
       "<div>\n",
       "<style scoped>\n",
       "    .dataframe tbody tr th:only-of-type {\n",
       "        vertical-align: middle;\n",
       "    }\n",
       "\n",
       "    .dataframe tbody tr th {\n",
       "        vertical-align: top;\n",
       "    }\n",
       "\n",
       "    .dataframe thead th {\n",
       "        text-align: right;\n",
       "    }\n",
       "</style>\n",
       "<table border=\"1\" class=\"dataframe\">\n",
       "  <thead>\n",
       "    <tr style=\"text-align: right;\">\n",
       "      <th></th>\n",
       "      <th>0</th>\n",
       "    </tr>\n",
       "  </thead>\n",
       "  <tbody>\n",
       "    <tr>\n",
       "      <th>0</th>\n",
       "      <td>5</td>\n",
       "    </tr>\n",
       "  </tbody>\n",
       "</table>\n",
       "</div>"
      ],
      "text/plain": [
       "   0\n",
       "0  5"
      ]
     },
     "execution_count": 5,
     "metadata": {},
     "output_type": "execute_result"
    }
   ],
   "source": [
    "# Mode\n",
    "data.mode()"
   ]
  },
  {
   "cell_type": "code",
   "execution_count": 6,
   "metadata": {},
   "outputs": [
    {
     "data": {
      "text/plain": [
       "0    1.632993\n",
       "dtype: float64"
      ]
     },
     "execution_count": 6,
     "metadata": {},
     "output_type": "execute_result"
    }
   ],
   "source": [
    "# Standard Deviation\n",
    "data.std()"
   ]
  },
  {
   "cell_type": "code",
   "execution_count": 7,
   "metadata": {},
   "outputs": [
    {
     "data": {
      "text/plain": [
       "0    2.5\n",
       "dtype: float64"
      ]
     },
     "execution_count": 7,
     "metadata": {},
     "output_type": "execute_result"
    }
   ],
   "source": [
    "# CALCULER DES QUANTILES\n",
    "\n",
    "data.quantile(q = 0.25)\n",
    "# Calculer le troisième quartile\n",
    "data.quantile(q = 0.75)\n",
    "# Calculer l'écart interquartile\n",
    "data.quantile(q = 3/4)\n",
    "# Calculer écart interquartile\n",
    "data.quantile(q = 3/4) - data.quantile(0.25)"
   ]
  },
  {
   "cell_type": "code",
   "execution_count": 8,
   "metadata": {},
   "outputs": [
    {
     "data": {
      "text/plain": [
       "{'whiskers': [<matplotlib.lines.Line2D at 0x1189edf98>,\n",
       "  <matplotlib.lines.Line2D at 0x1189ff320>],\n",
       " 'caps': [<matplotlib.lines.Line2D at 0x1189ff668>,\n",
       "  <matplotlib.lines.Line2D at 0x1189ff9b0>],\n",
       " 'boxes': [<matplotlib.lines.Line2D at 0x1189ede48>],\n",
       " 'medians': [<matplotlib.lines.Line2D at 0x1189ffcf8>],\n",
       " 'fliers': [<matplotlib.lines.Line2D at 0x118a0c080>],\n",
       " 'means': []}"
      ]
     },
     "execution_count": 8,
     "metadata": {},
     "output_type": "execute_result"
    },
    {
     "data": {
      "image/png": "[encoded data removed]",
      "text/plain": [
       "<Figure size 432x288 with 1 Axes>"
      ]
     },
     "metadata": {
      "needs_background": "light"
     },
     "output_type": "display_data"
    }
   ],
   "source": [
    "# Dessiner une boîte à moustaches\n",
    "plt.boxplot(data.values)"
   ]
  },
  {
   "cell_type": "code",
   "execution_count": null,
   "metadata": {},
   "outputs": [],
   "source": [
    "#########################################\n",
    "# SOLUTION\n",
    "#########################################"
   ]
  },
  {
   "cell_type": "code",
   "execution_count": 14,
   "metadata": {
    "scrolled": true
   },
   "outputs": [
    {
     "name": "stdout",
     "output_type": "stream",
     "text": [
      "show the 25% Quartile\n"
     ]
    },
    {
     "data": {
      "text/html": [
       "<div>\n",
       "<style scoped>\n",
       "    .dataframe tbody tr th:only-of-type {\n",
       "        vertical-align: middle;\n",
       "    }\n",
       "\n",
       "    .dataframe tbody tr th {\n",
       "        vertical-align: top;\n",
       "    }\n",
       "\n",
       "    .dataframe thead th {\n",
       "        text-align: right;\n",
       "    }\n",
       "</style>\n",
       "<table border=\"1\" class=\"dataframe\">\n",
       "  <thead>\n",
       "    <tr style=\"text-align: right;\">\n",
       "      <th></th>\n",
       "      <th>bike</th>\n",
       "      <th>bus</th>\n",
       "      <th>car</th>\n",
       "      <th>uber</th>\n",
       "    </tr>\n",
       "  </thead>\n",
       "  <tbody>\n",
       "    <tr>\n",
       "      <th>count</th>\n",
       "      <td>8.000000</td>\n",
       "      <td>8.000000</td>\n",
       "      <td>8.000000</td>\n",
       "      <td>8.000000</td>\n",
       "    </tr>\n",
       "    <tr>\n",
       "      <th>mean</th>\n",
       "      <td>23.125000</td>\n",
       "      <td>59.625000</td>\n",
       "      <td>49.875000</td>\n",
       "      <td>40.375000</td>\n",
       "    </tr>\n",
       "    <tr>\n",
       "      <th>std</th>\n",
       "      <td>5.962682</td>\n",
       "      <td>20.673914</td>\n",
       "      <td>12.586132</td>\n",
       "      <td>14.441384</td>\n",
       "    </tr>\n",
       "    <tr>\n",
       "      <th>min</th>\n",
       "      <td>16.000000</td>\n",
       "      <td>30.000000</td>\n",
       "      <td>34.000000</td>\n",
       "      <td>22.000000</td>\n",
       "    </tr>\n",
       "    <tr>\n",
       "      <th>25%</th>\n",
       "      <td>17.750000</td>\n",
       "      <td>45.000000</td>\n",
       "      <td>39.500000</td>\n",
       "      <td>32.250000</td>\n",
       "    </tr>\n",
       "    <tr>\n",
       "      <th>50%</th>\n",
       "      <td>22.500000</td>\n",
       "      <td>64.000000</td>\n",
       "      <td>49.500000</td>\n",
       "      <td>36.000000</td>\n",
       "    </tr>\n",
       "    <tr>\n",
       "      <th>75%</th>\n",
       "      <td>29.250000</td>\n",
       "      <td>75.000000</td>\n",
       "      <td>58.500000</td>\n",
       "      <td>47.000000</td>\n",
       "    </tr>\n",
       "    <tr>\n",
       "      <th>max</th>\n",
       "      <td>30.000000</td>\n",
       "      <td>87.000000</td>\n",
       "      <td>66.000000</td>\n",
       "      <td>66.000000</td>\n",
       "    </tr>\n",
       "  </tbody>\n",
       "</table>\n",
       "</div>"
      ],
      "text/plain": [
       "            bike        bus        car       uber\n",
       "count   8.000000   8.000000   8.000000   8.000000\n",
       "mean   23.125000  59.625000  49.875000  40.375000\n",
       "std     5.962682  20.673914  12.586132  14.441384\n",
       "min    16.000000  30.000000  34.000000  22.000000\n",
       "25%    17.750000  45.000000  39.500000  32.250000\n",
       "50%    22.500000  64.000000  49.500000  36.000000\n",
       "75%    29.250000  75.000000  58.500000  47.000000\n",
       "max    30.000000  87.000000  66.000000  66.000000"
      ]
     },
     "execution_count": 14,
     "metadata": {},
     "output_type": "execute_result"
    },
    {
     "data": {
      "image/png": "[encoded data removed]",
      "text/plain": [
       "<Figure size 432x288 with 1 Axes>"
      ]
     },
     "metadata": {
      "needs_background": "light"
     },
     "output_type": "display_data"
    }
   ],
   "source": [
    "#!/usr/bin/env python3\n",
    "# -*- coding: utf-8 -*-\n",
    "\"\"\"\n",
    "Created on Wed Oct 11 12:29:01 2017\n",
    "\n",
    "@author: antoinekrainc\n",
    "\"\"\"\n",
    "# Import most popular libraries\n",
    "import pandas as pd\n",
    "import numpy as np\n",
    "from sklearn import datasets\n",
    "from sklearn import metrics\n",
    "import matplotlib.pyplot as plt\n",
    "\n",
    "# Create Dataset: Age of People sorted by their way to go to work\n",
    "\n",
    "df = pd.DataFrame(\n",
    "    {'bike' : [21, 30, 17, 30, 24, 16, 29, 18], \n",
    "     'bus' : [75, 87, 49, 68, 75, 33, 60, 30], \n",
    "     'car' : [55, 34, 38, 66, 56, 66, 44, 40],\n",
    "     'uber' : [22, 34, 38, 66, 56, 33, 44, 30]\n",
    "    }\n",
    ")\n",
    "\n",
    "# Calculation of Mean\n",
    "df.mean()\n",
    "\n",
    "# Calculation of Median\n",
    "df.median()\n",
    "\n",
    "# Calculation of Mode\n",
    "df.mode()\n",
    "\n",
    "# Calculation of Max & Min\n",
    "df.max()\n",
    "df.min()\n",
    "\n",
    "\n",
    "# Calculation of Quartile\n",
    "print (\"show the 25% Quartile\")\n",
    "df.quantile(.25)\n",
    "\n",
    "# Show Box Plot\n",
    "df[\"bike\"].plot(kind=\"box\")\n",
    "df[\"bus\"].plot(kind=\"box\")\n",
    "df[\"car\"].plot(kind=\"box\")\n",
    "df[\"uber\"].plot(kind=\"box\")\n",
    "\n",
    "# Calculate the mean of 1 column\n",
    "mean = df[\"bike\"].mean()\n",
    "\n",
    "# Calculate the number of rows in a column\n",
    "n = df[\"bike\"].count()\n",
    "\n",
    "# Calculate Standard Deviation\n",
    "standard_deviation = df[\"bike\"].std()\n",
    "\n",
    "# Describe all statistics calculations at once \n",
    "df.describe()"
   ]
  }
 ],
 "metadata": {
  "kernelspec": {
   "display_name": "Python 3",
   "language": "python",
   "name": "python3"
  },
  "language_info": {
   "codemirror_mode": {
    "name": "ipython",
    "version": 3
   },
   "file_extension": ".py",
   "mimetype": "text/x-python",
   "name": "python",
   "nbconvert_exporter": "python",
   "pygments_lexer": "ipython3",
   "version": "3.6.8"
  }
 },
 "nbformat": 4,
 "nbformat_minor": 2
}
