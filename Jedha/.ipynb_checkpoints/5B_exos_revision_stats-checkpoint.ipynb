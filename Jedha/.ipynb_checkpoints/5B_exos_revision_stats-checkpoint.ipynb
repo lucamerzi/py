{
 "cells": [
  {
   "cell_type": "code",
   "execution_count": 1,
   "metadata": {},
   "outputs": [],
   "source": [
    "import pandas as pd\n",
    "import matplotlib.pyplot as plt\n",
    "import numpy as np\n",
    "import math"
   ]
  },
  {
   "cell_type": "code",
   "execution_count": 2,
   "metadata": {},
   "outputs": [],
   "source": [
    "#########################################\n",
    "# EXERCISES\n",
    "#########################################"
   ]
  },
  {
   "cell_type": "code",
   "execution_count": 3,
   "metadata": {
    "scrolled": true
   },
   "outputs": [
    {
     "name": "stdout",
     "output_type": "stream",
     "text": [
      "   Customer   Hours spent on Facebook on Mobile\n",
      "0          1                           4.092475\n",
      "1          2                           7.233371\n",
      "2          3                           7.455792\n",
      "3          4                           7.253503\n",
      "4          5                           2.249682\n",
      "Mean: 4.847316438536623\n",
      "Sample size: 102\n",
      "Std: 2.9789129198018\n"
     ]
    },
    {
     "data": {
      "text/plain": [
       "[4.269202030113112, 5.4254308469601344]"
      ]
     },
     "execution_count": 3,
     "metadata": {},
     "output_type": "execute_result"
    }
   ],
   "source": [
    "#########################################\n",
    "# 1 - Time Spent on Facebook\n",
    "#########################################\n",
    "\n",
    "\"\"\"\n",
    "Facebook voudrait connaître le temps moyen passé sur leur site. \n",
    "Pour cela, ils ont lancé une étude sur 100 personnes et leur ont \n",
    "demandé combien de temps ils passent sur Facebook par jour :\n",
    "\t•\tDans Spyder, ouvrez le fichier “Hours spent on Facebook.xlsx”\n",
    "\t•\tCalculez la moyenne et l’écart-type du dataset. \n",
    "\t•\tNous voudrions connaître la moyenne de la population totale. Calculez l’intervalle de confiance \n",
    "    à 95% de taux de confiance. \n",
    "\"\"\"\n",
    "\n",
    "    # Dans Spyder, ouvrez le fichier “Hours spent on Facebook.xlsx”\n",
    "fb_data = pd.read_excel(\"Hours Spent on Facebook .xlsx\")\n",
    "print(fb_data.head())\n",
    "\n",
    "    # Calculez la moyenne\n",
    "# fb_data[\"Hours spent on Facebook on Mobile\"].mean()\n",
    "mean = fb_data.iloc[:, 1].mean()\n",
    "print(\"Mean:\", mean)\n",
    "\n",
    "    # Number of users in sample\n",
    "sample_size = len(fb_data.iloc[:, 0])\n",
    "print(\"Sample size:\", sample_size)\n",
    "\n",
    "    # et l’écart-type du dataset.\n",
    "std = fb_data[\"Hours spent on Facebook on Mobile\"].std()\n",
    "print(\"Std:\", std)\n",
    "\n",
    "    # Set value of z according to the confidence rate\n",
    "z = 1.96\n",
    "\n",
    "real_mean_z = [ mean - z * (std / math.sqrt(102)) , mean + z * (std / math.sqrt(102)) ]\n",
    "real_mean_z\n",
    "\n",
    "# On est sûr à 95% que le temps moyen passé sur fb se situe entre 4.26 et 5.42h"
   ]
  },
  {
   "cell_type": "code",
   "execution_count": 4,
   "metadata": {},
   "outputs": [
    {
     "data": {
      "text/plain": [
       "[584.8234993034367, 398.72221664610083]"
      ]
     },
     "execution_count": 4,
     "metadata": {},
     "output_type": "execute_result"
    }
   ],
   "source": [
    "#########################################\n",
    "# 2 - Monthly spending on Adwords\n",
    "#########################################\n",
    "\n",
    "    # Import dataset\n",
    "dataset = pd.read_excel(\"Monthly spending on adwords.xlsx\")\n",
    "\n",
    "    # Calculate Mean & Standard Dev\n",
    "mean = dataset[\"Monthly spending\"].mean()\n",
    "stdev = dataset[\"Monthly spending\"].std()\n",
    "\n",
    "    # Set the confidence interval\n",
    "confidence = 95/100\n",
    "\n",
    "    # Set the corresponding t Value \n",
    "t = 2.04\n",
    "\n",
    "    # Find the interval \n",
    "\n",
    "real_mean = [mean + t*stdev/math.sqrt(31), mean - t*stdev/math.sqrt(31)]\n",
    "real_mean"
   ]
  },
  {
   "cell_type": "code",
   "execution_count": 5,
   "metadata": {},
   "outputs": [
    {
     "name": "stdout",
     "output_type": "stream",
     "text": [
      "            City  Number of sales\n",
      "0       New York     65538.794054\n",
      "1  San Francisco     45709.289870\n",
      "2       Seattle      87417.957092\n",
      "3        Denver      96461.186529\n",
      "4        Austin       3665.528408\n",
      "Mean: 42996.94036175361\n",
      "Standard deviation: 28365.335356619857\n"
     ]
    },
    {
     "data": {
      "text/plain": [
       "30.909215871909026"
      ]
     },
     "execution_count": 5,
     "metadata": {},
     "output_type": "execute_result"
    }
   ],
   "source": [
    "#########################################\n",
    "# 3 - Number of Nintendo Switch sold - CORRIGER\n",
    "#########################################\n",
    "\"\"\"\n",
    "Nintendo est en train de construire leur nouvelle console.\n",
    "Cependant, la dernière console qu’ils ont lancé a été un désastre car personne n’a acheté l’objet.\n",
    "Cette fois, Nintendo voudrait savoir combien de villes ils devraient questionner pour être sûr à 95%\n",
    "qu’ils vont construire le bon nombre de console. \n",
    "L’entreprise acceptera une erreur de 5000 consoles.\n",
    "\n",
    "\t•\tDans spyder, ouvrez le fichier “Number of switch sold.xlsx\n",
    "\t•\tCalculez la moyenne et l’écart-type du dataset.\n",
    "\t•\tParamétrez la marge d’erreur à 5000\n",
    "\t•\tTrouvez le nombre minimum de villes à étudier.  \n",
    "\"\"\"\n",
    "nintendo_data = pd.read_excel(\"Number of switch sold.xlsx\")\n",
    "print(nintendo_data.head())\n",
    "\n",
    "mean = nintendo_data[\"Number of sales\"].mean()\n",
    "print(\"Mean:\", mean)\n",
    "\n",
    "std = nintendo_data[\"Number of sales\"].std()\n",
    "print(\"Standard deviation:\", std)\n",
    "\n",
    "err_margin = 5000\n",
    "\n",
    "z = 1.96\n",
    "\n",
    "n = ( ((z / 2)* std) / 5000 ) ** 2\n",
    "n"
   ]
  },
  {
   "cell_type": "code",
   "execution_count": 6,
   "metadata": {},
   "outputs": [
    {
     "name": "stdout",
     "output_type": "stream",
     "text": [
      "   Satisfied customer\n",
      "0                   0\n",
      "1                   0\n",
      "2                   0\n",
      "3                   0\n",
      "4                   0\n",
      "Number of individuals in sample: 41\n",
      "Proportion of satisfied users: 0.36585365853658536\n",
      "La proportion d'utilisateurs satisfaits appartient à l'intervalle de confiance [0.21916682633695964, 0.5125404907362111] avec une proba de 95% min.\n"
     ]
    }
   ],
   "source": [
    "#########################################\n",
    "# 4 - Apple product release\n",
    "#########################################\n",
    "\"\"\"\n",
    "Apple vient de lancer leur nouvel IOS pour Iphone et voudrait savoir si \n",
    "les clients sont satisfaits de cette version ou pas. Ils ont demandé à \n",
    "40 personnes leur satisfaction par rapport à l’OS et ont collecté leurs \n",
    "réponses. Dans un but pédagogique, nous avons marqué les personnes \n",
    "satisfaites avec un 1 et les personnes non satisfaites avec un 0.\n",
    "\n",
    "\t•\tDans spyder, ouvrez le fichier “satisfaction apple release.xlsx”\n",
    "\t•\tParamétrez le nombre n de personnes dans l’échantillon\n",
    "\t•\tCalculez k, le nombre de personnes satisfaites par l’OS \n",
    "\t•\tCalculez p, la proportion de personnes satisfaites par l’OS\n",
    "\t•\tCalculez l’intervalle de confiance de la proportion de la population \n",
    "\"\"\"\n",
    "\n",
    "    # Testing how customers reacted to Apple Product release\n",
    "\n",
    "    # Import dataset \n",
    "    \n",
    "dataset = pd.read_excel(\"satisfaction apple release.xlsx\")\n",
    "print(dataset.head())\n",
    "\n",
    "    # Calculate percentage\n",
    "\n",
    "n = dataset[\"Satisfied customer\"].count()\n",
    "print(\"Number of individuals in sample:\", n)\n",
    "\n",
    "k = 0\n",
    "for i in range(0, n):\n",
    "    if dataset.loc[i, \"Satisfied customer\"] == 1:\n",
    "        k += 1\n",
    "\n",
    "p = k/n\n",
    "print(\"Proportion of satisfied users:\", p)\n",
    "\n",
    "    # Set Z Value\n",
    "    \n",
    "z = 1.95\n",
    "\n",
    "    # Calculate interval\n",
    "real_percentage = [p - z*math.sqrt(p*(1-p)/n), p + z*math.sqrt(p*(1-p)/n)]\n",
    "print(\n",
    "\"La proportion d'utilisateurs satisfaits appartient à l'intervalle de confiance {intervalle} avec une proba de 95% min.\"\n",
    "    .format(intervalle=real_percentage)\n",
    ")"
   ]
  },
  {
   "cell_type": "code",
   "execution_count": 7,
   "metadata": {},
   "outputs": [
    {
     "data": {
      "text/plain": [
       "3422.2499999999995"
      ]
     },
     "execution_count": 7,
     "metadata": {},
     "output_type": "execute_result"
    }
   ],
   "source": [
    "#########################################\n",
    "# 5 - Test a new medicine\n",
    "#########################################\n",
    "\n",
    "\"\"\"\n",
    "Un laboratoire a créé un nouveau médicament et voudrait tester son efficacité. \n",
    "D’après les tests faits sur des rats, les experts estiment \n",
    "qu’on devrait avoir un taux d’efficacité d’environs 90%. \n",
    "Ils voudraient savoir le nombre d’individus qu’il \n",
    "faudrait tester pour confirmer son efficacité à 95% avec une marge d’erreur de 0,01%\n",
    "\t•\tParamétrez p, la proportion estimée \n",
    "\t•\tParametrez z, la z-value a 95% \n",
    "\t•\tParamétrez votre marge d’erreur\n",
    "\t•\tCalculez n\n",
    "\"\"\"\n",
    "\n",
    "    # How many people must I test to be 95% sure that this new medicine is effective\n",
    "\n",
    "    # Set up your expected proportion\n",
    "exp_p = 0.90\n",
    "\n",
    "    # Set up Z\n",
    "z = 1.95\n",
    "\n",
    "    # Set up Error\n",
    "E = 0.01\n",
    "\n",
    "    # Calculate N\n",
    "n = exp_p * (1 - exp_p)* (z/E)**2\n",
    "n"
   ]
  },
  {
   "cell_type": "code",
   "execution_count": 8,
   "metadata": {},
   "outputs": [],
   "source": [
    "#########################################\n",
    "# OTHER EXERCISES\n",
    "#########################################"
   ]
  },
  {
   "cell_type": "code",
   "execution_count": 9,
   "metadata": {},
   "outputs": [
    {
     "name": "stdout",
     "output_type": "stream",
     "text": [
      "La proportion de votants pour Macron appartient à l'intervalle de confiance [0.42, 0.62] avec une proba de 95% min.\n"
     ]
    }
   ],
   "source": [
    "# Trois conditions à vérifier pour que intervalle de confiance soit concluant\n",
    "# n >= 30\n",
    "# n * f >= 5\n",
    "# n * (1 - f) >= 5\n",
    "\n",
    "f = 0.52\n",
    "f - (1 / math.sqrt(100))\n",
    "\n",
    "int = [ round(0.52 - 1/math.sqrt(100), 2) , 0.52 + 1/math.sqrt(100) ]\n",
    "\n",
    "print(\n",
    "\"La proportion de votants pour Macron appartient à l'intervalle de confiance {intervalle} avec une proba de 95% min.\"\n",
    "    .format(intervalle=int)\n",
    ")"
   ]
  }
 ],
 "metadata": {
  "kernelspec": {
   "display_name": "Python 3",
   "language": "python",
   "name": "python3"
  },
  "language_info": {
   "codemirror_mode": {
    "name": "ipython",
    "version": 3
   },
   "file_extension": ".py",
   "mimetype": "text/x-python",
   "name": "python",
   "nbconvert_exporter": "python",
   "pygments_lexer": "ipython3",
   "version": "3.6.8"
  }
 },
 "nbformat": 4,
 "nbformat_minor": 2
}
